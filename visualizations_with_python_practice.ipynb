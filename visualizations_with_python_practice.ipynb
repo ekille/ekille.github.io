{
  "nbformat": 4,
  "nbformat_minor": 0,
  "metadata": {
    "colab": {
      "name": "visualizations_with_python_practice.ipynb",
      "private_outputs": true,
      "provenance": [],
      "collapsed_sections": [],
      "include_colab_link": true
    },
    "kernelspec": {
      "name": "python3",
      "display_name": "Python 3"
    }
  },
  "cells": [
    {
      "cell_type": "markdown",
      "metadata": {
        "id": "view-in-github",
        "colab_type": "text"
      },
      "source": [
        "<a href=\"https://colab.research.google.com/github/ekille/ekille.github.io/blob/master/visualizations_with_python_practice.ipynb\" target=\"_parent\"><img src=\"https://colab.research.google.com/assets/colab-badge.svg\" alt=\"Open In Colab\"/></a>"
      ]
    },
    {
      "cell_type": "markdown",
      "metadata": {
        "id": "Qr8WXOAZ6Mdu"
      },
      "source": [
        "# Visualizations with Python\n",
        "\n",
        "***\n",
        "\n",
        "# General Notes on This Session\n",
        "\n",
        "This is a Jupyter notebook running in Google's Colab environment that we will use to practice with some Python packages that are useful for data analysis.\n",
        "\n",
        "You can write and execute your Python code right in the browser here. No additional setup is required.\n",
        "\n",
        "Because of the large number of people here, our interaction during the session will be limited. If you get stuck on something, please do your best for now and I promise to help you out later.\n",
        "\n",
        "If you get an error with the code I supplied, make sure you have *run all prior code.*\n",
        "\n",
        "The main packages we will cover today are *pandas* / *numpy* (used for manipulating tabular and array data) and *matplotlib* / *seaborn* / *bokeh* / *plotly* (used to create graphs and animations).\n",
        "\n",
        "We could easily spend hours on each of these packages and so can only do a quick tour during our time today."
      ]
    },
    {
      "cell_type": "markdown",
      "metadata": {
        "id": "l3TeC_HQ8sJ5"
      },
      "source": [
        "# Pandas\n",
        "\n",
        "The pandas library is essential for data analysis in Python. It allows you to maniulate tabular data structures, such as you would find in a relational database or spreadsheet.\n",
        "\n",
        "The name comes from \"panel data\" - a term for used for data sets that track multiple variables over time.\n",
        "\n",
        "Some things we'll do with pandas:\n",
        "*   Load data\n",
        "*   Explore that data\n",
        "*   Subset the data\n",
        "*   Join data sets together\n",
        "\n",
        "\n"
      ]
    },
    {
      "cell_type": "markdown",
      "metadata": {
        "id": "_Z5yTUpaGjSm"
      },
      "source": [
        "# Load Data\n",
        "\n",
        "Let's get some data first. We can load data from (and write back to) a variety of locations and formats.\n",
        "\n",
        "To get things started, we'll load some CSV data about COVID-19 cases in the United States from a URL.\n"
      ]
    },
    {
      "cell_type": "code",
      "metadata": {
        "id": "X09stpEIFWnw"
      },
      "source": [
        "# it's conventional to alias pandas as pd once imported\n",
        "import pandas as pd\n",
        "historical_data_url='https://query.data.world/s/5amvcq2lwgrsjhrcsy7vpjglambmsq'\n",
        "# pandas will read this data into a DataFrame, the typical pandas data structure\n",
        "historical_covid_data=pd.read_csv(historical_data_url)\n",
        "# let's see the first 10 rows - could also do tail()\n",
        "historical_covid_data.head(n=10)"
      ],
      "execution_count": null,
      "outputs": []
    },
    {
      "cell_type": "markdown",
      "metadata": {
        "id": "nc0K5QbyKH35"
      },
      "source": [
        "# Explore Our Data\n",
        "\n",
        "Now that we've loaded our data, let's learn more about it. "
      ]
    },
    {
      "cell_type": "code",
      "metadata": {
        "id": "YvMdByr_mruz"
      },
      "source": [
        "# let's see some stats about the values in each column\n",
        "historical_covid_data.describe(include=\"all\")"
      ],
      "execution_count": null,
      "outputs": []
    },
    {
      "cell_type": "markdown",
      "metadata": {
        "id": "Pnzz60P-hwME"
      },
      "source": [
        "# Exercise #1\n",
        "\n",
        "Load the data from https://query.data.world/s/3haf2gay6ntrp6groaxuuo2taumrki into a data frame called *current_covid_data*.\n",
        "\n",
        "How many confirmed cases (\"confirmed\") are in the median county?"
      ]
    },
    {
      "cell_type": "code",
      "metadata": {
        "id": "m64fDUmFoZlr"
      },
      "source": [
        "# load the data into a new data frame called current_covid_data\n",
        "\n",
        "# take a look at the data to see what it looks like\n",
        "current_data_url='https://query.data.world/s/3haf2gay6ntrp6groaxuuo2taumrki'\n",
        "# pandas will read this data into a DataFrame, the typical pandas data structure\n",
        "current_covid_data=pd.read_csv(current_data_url)\n",
        "# let's see the first 10 rows - could also do tail()\n",
        "current_covid_data.head(n=10)"
      ],
      "execution_count": null,
      "outputs": []
    },
    {
      "cell_type": "code",
      "metadata": {
        "id": "FU4xVS2B7pl6"
      },
      "source": [
        "# how many cases are in the median county?\n",
        "current_covid_data.describe()\n"
      ],
      "execution_count": null,
      "outputs": []
    },
    {
      "cell_type": "markdown",
      "metadata": {
        "id": "_lOsNO7LuZDk"
      },
      "source": [
        "# Plotting with Matplotlib\n",
        "\n",
        "The matplotlib package is the most commonly used way to plot data from pandas data frames and probably Python data in general.\n",
        "\n",
        "It was inspired by and based partly upon a mathematical computing and graphics environment called MATLAB.\n",
        "\n",
        "We're going to find the 10 states with the most COVID-19 cases and plot the number of cases over time."
      ]
    },
    {
      "cell_type": "code",
      "metadata": {
        "id": "uhT4gFJvB21y"
      },
      "source": [
        "### UNCOMMENT AND RUN THESE FIRST IF YOU DIDN'T COMPLETE EXERCISE 1###\n",
        "# current_data_url='https://query.data.world/s/3haf2gay6ntrp6groaxuuo2taumrki' \n",
        "# current_covid_data=pd.read_csv(current_data_url)"
      ],
      "execution_count": null,
      "outputs": []
    },
    {
      "cell_type": "code",
      "metadata": {
        "id": "08kLKvFM6JWi"
      },
      "source": [
        "# let's find the 10 states that have the most COVID-19 cases\n",
        "# use a group by to get state totals, summing up the records for each state, and sort by decreasing number of cases, limiting to top 10\n",
        "# notice that you can chain calls together and that you already know how to limit the top n with head()\n",
        "top_10_states_totals = current_covid_data.groupby('state').sum().sort_values(by='confirmed', ascending=False).head(n=10)\n",
        "top_10_states_totals # note that many numbers don't make sense here because not additive - just ignore those"
      ],
      "execution_count": null,
      "outputs": []
    },
    {
      "cell_type": "code",
      "metadata": {
        "id": "TOHTVIoA9MMp"
      },
      "source": [
        "# get that list of top 10 states to filter our other data set\n",
        "# the last operation made it the index of our data frame\n",
        "top_10_states_list = top_10_states_totals.index.to_list()\n",
        "top_10_states_list"
      ],
      "execution_count": null,
      "outputs": []
    },
    {
      "cell_type": "code",
      "metadata": {
        "id": "_D-DN94nCj0q"
      },
      "source": [
        "# let's create a new data frame from our historical COVID data for confirmed cases in just those states we identified above\n",
        "# we'll use a new \"isin\" method to subset our data for just those states\n",
        "# the brackets allow us to specify the rows we want in our new data frame\n",
        "# also notice copy() method to give us new data frame instead of view (we'll be editing this data)\n",
        "top_10_states_history = historical_covid_data[historical_covid_data.state.isin(top_10_states_list)].copy()\n",
        "top_10_states_history.head()"
      ],
      "execution_count": null,
      "outputs": []
    },
    {
      "cell_type": "code",
      "metadata": {
        "id": "Bl04SHQS6HUl"
      },
      "source": [
        "# we want to plot by date - does pandas know that date column is actually a date?\n",
        "top_10_states_history.dtypes"
      ],
      "execution_count": null,
      "outputs": []
    },
    {
      "cell_type": "code",
      "metadata": {
        "id": "4tYRwO0S6X7r"
      },
      "source": [
        "# make it a date - then go back and run line above\n",
        "top_10_states_history.date =  pd.to_datetime(top_10_states_history.date)"
      ],
      "execution_count": null,
      "outputs": []
    },
    {
      "cell_type": "code",
      "metadata": {
        "id": "g9lDKX2i4NvL"
      },
      "source": [
        "# numpy is a library used for various numeric operations - pandas is actually built on it\n",
        "import numpy as np\n",
        "# pivot the data frame - each date gets a row, the states become columns, and the sum of the cases become the cell values  \n",
        "top_10_pivot_cases = pd.pivot_table(top_10_states_history, values='cumulative_cases', index=['date'], columns=['state'], aggfunc=np.sum)\n",
        "top_10_pivot_cases.tail()\n"
      ],
      "execution_count": null,
      "outputs": []
    },
    {
      "cell_type": "code",
      "metadata": {
        "id": "KrABP3071dN1"
      },
      "source": [
        "# need this line to create plot inside a Jupyter notebook like this one\n",
        "%matplotlib inline\n",
        "# conventional to import as plt - don't actually need plt reference until next code block\n",
        "import matplotlib.pyplot as plt\n",
        "# draw the plot\n",
        "top_10_pivot_cases.plot()"
      ],
      "execution_count": null,
      "outputs": []
    },
    {
      "cell_type": "code",
      "metadata": {
        "id": "E8ab8u2T98uX"
      },
      "source": [
        "from datetime import date\n",
        "# make plot bigger with width, height in inches\n",
        "plt.rcParams['figure.figsize'] = [20, 10]\n",
        "# get a reference to the plot area and add a marker\n",
        "top_10_pivot_cases_plot = top_10_pivot_cases.plot(marker=\"o\")\n",
        "# set the x-axis limits \n",
        "top_10_pivot_cases_plot.set_xlim(pd.Timestamp('2020-03-15'), date.today())\n",
        "# add a title\n",
        "top_10_pivot_cases_plot.set_title(\"COVID-19 Cases in Hardest Hit States\")"
      ],
      "execution_count": null,
      "outputs": []
    },
    {
      "cell_type": "markdown",
      "metadata": {
        "id": "BXpouN-5LgCC"
      },
      "source": [
        "#Exercise #2 \n",
        "\n",
        "Plot the 7-day rolling average of new cases (\"new_cases_7_day_rolling_avg\") since March 15th, 2020 for each of these states. Title your plot \"COVID-19 7-Day Rolling Average of New Cases in Hardest Hit States.\"\n",
        "\n",
        "Which state was accumulating new cases fastest in winter 2021? How about summer 2021?"
      ]
    },
    {
      "cell_type": "code",
      "metadata": {
        "id": "LMa9h2uEMTRw"
      },
      "source": [
        "# you can steal most of the code above for the new cases plot - you just need to make a handful of key edits\n",
        "# create a pivot for new cases from the top_10_states_history data frame\n",
        "\n",
        "# create your plot from the pivot\n",
        "\n",
        "# set the x-axis limits \n",
        "\n",
        "# add a title\n",
        "\n"
      ],
      "execution_count": null,
      "outputs": []
    },
    {
      "cell_type": "markdown",
      "metadata": {
        "id": "Yaq3XU3ASWZj"
      },
      "source": [
        "# Plotting with Seaborn\n",
        "\n",
        "Seaborn is a data visualization library built on top of matplotlib. It focuses on having a simple interface and attractive defaults. Basically, it tries to expose matplotlib capabilities more easily and make things look nicer out-of-the-box.\n",
        "\n",
        "The name comes from a character in the TV series \"The West Wing.\" The author of the package just seems to like the show."
      ]
    },
    {
      "cell_type": "code",
      "metadata": {
        "id": "Na7Xe9aOSg1b"
      },
      "source": [
        "# common to import as sns - the initials of the character from that show\n",
        "import seaborn as sns\n",
        "# set default style, color palette, etc.\n",
        "sns.set(style=\"white\")\n",
        "# creation relational plot (basically a scatterplot)\n",
        "# sizes gives a relative scale on which things are drawn\n",
        "splot = sns.relplot(x=\"lon\", y=\"lat\", hue=\"state\", size=\"confirmed\", \n",
        "            sizes=(20,1000), legend=None, data=current_covid_data)\n",
        "splot.fig.set_size_inches(20, 12)\n",
        "# focus axes on contiguous US states\n",
        "# because Seaborn is matplotlib under the covers, we can use plt reference from before\n",
        "plt.ylim(25, 50)\n",
        "plt.xlim(-125,-65)\n",
        "# add title\n",
        "plt.title(\"Distribution of Confirmed COVID Cases in U.S.\")\n"
      ],
      "execution_count": null,
      "outputs": []
    },
    {
      "cell_type": "markdown",
      "metadata": {
        "id": "GdE9qv3O13F9"
      },
      "source": [
        "#Exercise #3 \n",
        "\n",
        "Re-draw the map above with the size of the markers based on the number of deaths per 100,000 inhabitants ('deaths_per_100000').\n",
        "\n",
        "Are there any areas with a surprising (high or low) death rate?"
      ]
    },
    {
      "cell_type": "code",
      "metadata": {
        "id": "diY-z3hi3pf2"
      },
      "source": [
        "# re-draw the map using deaths_per_100000 to size the markers\n"
      ],
      "execution_count": null,
      "outputs": []
    },
    {
      "cell_type": "markdown",
      "metadata": {
        "id": "rb6Gxvlq3Z04"
      },
      "source": [
        "# Check Out Bokeh (rhymes with \"okay\") for Interactivity\n",
        "\n",
        "Bokeh is another plotting library that emphasizes interactivity. It allows you do pan/zoom, save graphics to disk, and build other kinds of interactions. Check it out at https://docs.bokeh.org/en/latest/. The name refers to \"aesthetic blur\" in photography."
      ]
    },
    {
      "cell_type": "code",
      "metadata": {
        "id": "q40ShS9Ex_Qi"
      },
      "source": [
        "# going to get the differences in cases among counties onto a lower scale for drawing dot sizes - adding the .1 because otherwise many data points would be invisible\n",
        "# throw this into a new column called 'scale'\n",
        "current_covid_data['scale'] = (current_covid_data.confirmed / (current_covid_data.confirmed.max() - current_covid_data.confirmed.min()) + .1)\n",
        "# going to bin these into 256 bins because that's how many colors I have in a pallete I'm about to use\n",
        "current_covid_data['color_bin'] = np.digitize(current_covid_data.confirmed, np.arange(0,256)*100)\n",
        "current_covid_data.describe()\n"
      ],
      "execution_count": null,
      "outputs": []
    },
    {
      "cell_type": "code",
      "metadata": {
        "id": "B9K-oVlL4LPS"
      },
      "source": [
        "from bokeh.plotting import figure, output_notebook, show\n",
        "from bokeh.models import ColumnDataSource, LinearColorMapper\n",
        "from bokeh.models.tools import HoverTool\n",
        "\n",
        "# data that will appear when I mouseover points\n",
        "TOOLTIPS = [\n",
        "    (\"county\", \"@county_name\"),\n",
        "    (\"state\", \"@state\"),\n",
        "    (\"cases\", \"@confirmed\")\n",
        "]\n",
        "\n",
        "# set up a way to map colors to values in the data set\n",
        "color_bin = current_covid_data.color_bin\n",
        "color_mapper = LinearColorMapper(palette='Turbo256', low=min(color_bin), high=max(color_bin))\n",
        "\n",
        "# need to set data source for graph\n",
        "source = ColumnDataSource(current_covid_data)\n",
        "# set up the basic plot\n",
        "p = figure(plot_width=1000, plot_height=600, background_fill_color = \"beige\", tooltips=TOOLTIPS,\n",
        "           title=\"COVID Confirmed Case Map - Mouse Over to See County Data\")\n",
        "# now draw the circles for each county\n",
        "p.circle(source=source,\n",
        "         x='lon', y='lat', radius='scale',\n",
        "         color={'field': 'color_bin', 'transform': color_mapper},\n",
        "         )\n",
        "\n",
        "# show the result\n",
        "output_notebook()\n",
        "show(p)"
      ],
      "execution_count": null,
      "outputs": []
    },
    {
      "cell_type": "markdown",
      "metadata": {
        "id": "VrSMAvUV5mqq"
      },
      "source": [
        "# Exercise #4\n",
        "Using the Bokeh plot above, find Denver, Colorado, and see how many confirmed cases it has.\n",
        "\n",
        "This is a no-code exercise. The point is to get familiar with Bokeh UI navigation."
      ]
    },
    {
      "cell_type": "markdown",
      "metadata": {
        "id": "92MI2Z5ZvAuQ"
      },
      "source": [
        "# Plotly for Animations\n",
        "\n",
        "Plotly is similar to Bokeh, but has a much better API for animations. (This is my opinion, but if you disagree, I'd love to hear why.)\n",
        "\n",
        "Let's see how easy it is to animate our data with Plotly. We're going to look at the 7-day rolling average of new cases over time in Pennsylvania."
      ]
    },
    {
      "cell_type": "code",
      "metadata": {
        "id": "Y0DYYvHGwD4G"
      },
      "source": [
        "# limit to certain states just for data set size\n",
        "target_states = ['Pennsylvania']\n",
        "target_data = historical_covid_data[historical_covid_data.state.isin(target_states)].copy()\n",
        "# limit it to just interesting dates\n",
        "target_data = target_data[target_data.date.between('2021-01-01',str(date.today()))]\n",
        "# now, need to get our lat/long data into same data frame as our historical data - fips_code is join basis\n",
        "# loc takes a [rows,columns] approach to specifying data from a data frame\n",
        "target_data = pd.merge(target_data, current_covid_data.loc[:,['fips_code','lat','lon']], on='fips_code')\n",
        "# get rid of rows with null values in metric of interest\n",
        "target_data = target_data[target_data.new_cases_7_day_rolling_avg.notnull()]\n",
        "target_data.head()"
      ],
      "execution_count": null,
      "outputs": []
    },
    {
      "cell_type": "code",
      "metadata": {
        "id": "ytBCH-Sdvedx"
      },
      "source": [
        "import plotly.express as px\n",
        "# create a complex animation with a single method call\n",
        "fig = px.scatter(target_data, x=\"lon\", y=\"lat\", animation_frame=\"date\", animation_group=\"fips_code\",\n",
        "           size=\"new_cases_7_day_rolling_avg\", color=\"state\", hover_name=\"location_name\",\n",
        "           size_max=100, height=700, width=1165)\n",
        "# speed frame duration up from 1 second to 100 ms\n",
        "fig.layout.updatemenus[0].buttons[0].args[1][\"frame\"][\"duration\"] = 100\n",
        "# clunky way to update title\n",
        "fig.update_layout(title={'text':'COVID Cases in PA throughout 2021'})\n",
        "\n",
        "fig.show()"
      ],
      "execution_count": null,
      "outputs": []
    },
    {
      "cell_type": "code",
      "metadata": {
        "id": "94-r3dLlQ0sY"
      },
      "source": [
        "# now show an animated bar chart of state totals\n",
        "target_states = ['Pennsylvania','California','New York','Texas','Florida']\n",
        "target_data = historical_covid_data[historical_covid_data.state.isin(target_states)].copy()\n",
        "# limit it to just interesting dates\n",
        "target_data = target_data[target_data.date.between('2021-06-01',str(date.today()))]\n",
        "fig = px.bar(target_data, x=\"state\", y=\"new_cases_7_day_rolling_avg\", color=\"state\",\n",
        "  animation_frame=\"date\", range_y=[0,40000], hover_data=['location_name'])\n",
        "fig.layout.updatemenus[0].buttons[0].args[1][\"frame\"][\"duration\"] = 150\n",
        "fig.update_layout(title={'text':'COVID Cases Across States in Summer 2021'})\n",
        "fig.show()"
      ],
      "execution_count": null,
      "outputs": []
    },
    {
      "cell_type": "markdown",
      "metadata": {
        "id": "uKEussCaOZSK"
      },
      "source": [
        "# Exercise #5\n",
        "\n",
        "Animate any metric you like for some area of the country. You may need to experiment with the dimensions of the figure to make things look reasonable."
      ]
    },
    {
      "cell_type": "code",
      "metadata": {
        "id": "ol-UK0K4OumD"
      },
      "source": [
        "# have fun!"
      ],
      "execution_count": null,
      "outputs": []
    }
  ]
}